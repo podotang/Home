{
  "cells": [
    {
      "cell_type": "code",
      "execution_count": null,
      "metadata": {
        "colab": {
          "base_uri": "https://localhost:8080/",
          "height": 36
        },
        "id": "d18yMxpsozBR",
        "outputId": "a8aa63e1-8fab-49af-d478-142e7fc559ae"
      },
      "outputs": [
        {
          "name": "stdout",
          "output_type": "stream",
          "text": [
            "20\n"
          ]
        }
      ],
      "source": [
        "print(10+10)"
      ]
    },
    {
      "cell_type": "code",
      "execution_count": null,
      "metadata": {
        "colab": {
          "base_uri": "https://localhost:8080/",
          "height": 36
        },
        "id": "nhs8l7zhpHuS",
        "outputId": "0a258dcf-74b3-4cc0-eace-b58149d650a1"
      },
      "outputs": [
        {
          "name": "stdout",
          "output_type": "stream",
          "text": [
            "hello world\n"
          ]
        }
      ],
      "source": [
        "print('hello world')"
      ]
    },
    {
      "attachments": {},
      "cell_type": "markdown",
      "metadata": {
        "id": "LpNmx26hsyTc"
      },
      "source": []
    },
    {
      "cell_type": "code",
      "execution_count": null,
      "metadata": {
        "colab": {
          "base_uri": "https://localhost:8080/",
          "height": 55
        },
        "id": "HC_MX8ZLsONl",
        "outputId": "8e752947-ea22-443c-f401-937e5151330b"
      },
      "outputs": [
        {
          "name": "stdout",
          "output_type": "stream",
          "text": [
            "값을 입력하세요 :10\n"
          ]
        },
        {
          "data": {
            "text/plain": [
              "str"
            ]
          },
          "execution_count": 6,
          "metadata": {
            "tags": []
          },
          "output_type": "execute_result"
        }
      ],
      "source": [
        "a =input('값을 입력하세요 :')\n",
        "type(a)"
      ]
    },
    {
      "cell_type": "code",
      "execution_count": null,
      "metadata": {
        "colab": {
          "base_uri": "https://localhost:8080/",
          "height": 35
        },
        "id": "5aqocX-Dtalg",
        "outputId": "6d28778b-aefc-4df6-9415-90bfcd8a4e09"
      },
      "outputs": [
        {
          "name": "stdout",
          "output_type": "stream",
          "text": [
            "['1', '2']\n"
          ]
        }
      ],
      "source": [
        "a = ['1', '2','3']\n",
        "print(a[0:2])\n",
        "\n"
      ]
    },
    {
      "cell_type": "code",
      "execution_count": null,
      "metadata": {
        "colab": {
          "base_uri": "https://localhost:8080/",
          "height": 53
        },
        "id": "koOMF-bBu1r2",
        "outputId": "95c7371f-73ad-4dbe-aa55-356ff3b9cb4f"
      },
      "outputs": [
        {
          "name": "stdout",
          "output_type": "stream",
          "text": [
            "20\n",
            "10\n"
          ]
        }
      ],
      "source": [
        "a = 10\n",
        "b =20\n",
        "temp = a\n",
        "a = b\n",
        "b = temp\n",
        "\n",
        "print(a)\n",
        "print(b)\n",
        "\n"
      ]
    },
    {
      "cell_type": "code",
      "execution_count": null,
      "metadata": {
        "colab": {
          "base_uri": "https://localhost:8080/",
          "height": 70
        },
        "id": "4NqR5Q3n6SDb",
        "outputId": "bcfca663-6a26-45d3-bf40-0a7e318052f3"
      },
      "outputs": [
        {
          "name": "stdout",
          "output_type": "stream",
          "text": [
            "처음 수를 입력하세요:1\n",
            "기호를 입력하세요:+\n",
            "다음 수를 입력하세요:1\n"
          ]
        }
      ],
      "source": [
        "num1 = input('처음 수를 입력하세요:' )\n",
        "opt = input('기호를 입력하세요:')\n",
        "num2 = input('다음 수를 입력하세요:')\n",
        "\n",
        "if opt == '+':\n",
        "  res = int(num1) + int(num2)\n",
        "elif opt == '-':\n",
        "  res = int(num1) - int(num2)\n",
        "elif opt == '*':\n",
        "  res = int(num1) * int(num2)\n",
        "elif opt == '/':\n",
        "  res = int(num1) / int(num2)\n",
        "else:\n",
        "  print('잘못입력하셨습니다.')\n",
        "\n",
        "  print(res)  \n",
        "\n"
      ]
    },
    {
      "cell_type": "code",
      "execution_count": null,
      "metadata": {
        "colab": {
          "base_uri": "https://localhost:8080/",
          "height": 52
        },
        "id": "ewQSIvNz5rAN",
        "outputId": "cd65fe5c-826c-482d-f9e1-2a0dd3de4e01"
      },
      "outputs": [
        {
          "name": "stdout",
          "output_type": "stream",
          "text": [
            "namecard\n",
            "김홍근\n"
          ]
        }
      ],
      "source": [
        "item = input()\n",
        "pocket ={'cellphone':'010-6886-3882.', 'namecard':'김홍근','money':'10000', 'creditcard':'visa'}\n",
        "if item in pocket:\n",
        "  if 'cellphone' == item:\n",
        "      print(pocket.get(item))\n",
        "  elif 'namecard' == item:\n",
        "      print(pocket[item])\n",
        "  elif 'money' == item:\n",
        "     print(pocket.get(item))\n",
        "     if int(pocket[item]) > 20000 or 'creditcard' in pocket:\n",
        "        print('돈이 많으시군요.'+ '맛난거 사주세요')\n",
        "     else:\n",
        "        print('금액이 적습니다.')\n",
        "else:\n",
        "    print('해당하는 아이템이 없습니다.')\n"
      ]
    },
    {
      "cell_type": "code",
      "execution_count": null,
      "metadata": {
        "colab": {
          "base_uri": "https://localhost:8080/",
          "height": 233
        },
        "id": "srr_yFgorDP7",
        "outputId": "179ff3fc-f8ee-4eca-9c5d-84ddd0fbecfa"
      },
      "outputs": [
        {
          "name": "stdout",
          "output_type": "stream",
          "text": [
            "교과목을 입력하세요 : 국어\n",
            "score : 50\n",
            "score : 65\n",
            "score : 43\n",
            "교과목을 입력하세요 : 영어\n",
            "score : 55\n",
            "score : 88\n",
            "score : 99\n",
            "합산할 과목을 입력해주세요 : 영어\n",
            "영어 과목의 합계는 242 입니다.\n",
            "영어 과목의 평균점수는 80.667 입니다.\n",
            "{'국어': [50, 65, 43], '영어': [55, 88, 99]}\n"
          ]
        }
      ],
      "source": [
        "subject = {}\n",
        "result = 0\n",
        "avr = 0\n",
        "for i in range(1,2):\n",
        "  score = []\n",
        "  name = input('교과목을 입력하세요 : ') \n",
        "  for j in range(3):\n",
        "    x = int(input('score : '))\n",
        "    score.append(x) \n",
        "    subject[name] = score\n",
        "\n",
        "sub = input('합산할 과목을 입력해주세요 : ')\n",
        "if sub in subject:\n",
        "  res = subject[sub]\n",
        "  for i in range(len(res)):\n",
        "     result +=res[i]\n",
        "\n",
        "  print(sub,'과목의 합계는', result,'입니다.')\n",
        "  avg = result / len(res)\n",
        "  print(sub,'과목의 평균점수는', round(avg,3),'입니다.')\n",
        "else:\n",
        "  print('합산할 과목이 없습니다.')\n",
        "\n",
        "print(subject)\n",
        "\n"
      ]
    },
    {
      "cell_type": "code",
      "execution_count": null,
      "metadata": {
        "colab": {
          "base_uri": "https://localhost:8080/",
          "height": 35
        },
        "id": "jsugwkq8gxTV",
        "outputId": "309a37ff-903d-436e-b93e-22215e4f98e6"
      },
      "outputs": [
        {
          "name": "stdout",
          "output_type": "stream",
          "text": [
            "3\n"
          ]
        }
      ],
      "source": [
        "word = 'banana'\n",
        "count = 0\n",
        "for a in word:\n",
        "  if a == 'a':\n",
        "    count = count +1\n",
        "\n",
        "print(count)\n",
        "\n"
      ]
    },
    {
      "cell_type": "code",
      "execution_count": 3,
      "metadata": {
        "colab": {
          "base_uri": "https://localhost:8080/",
          "height": 35
        },
        "id": "w8wUd9XYiJK1",
        "outputId": "0a4a73e1-e0f7-433e-8423-bd1fb09ab136"
      },
      "outputs": [
        {
          "name": "stdout",
          "output_type": "stream",
          "text": [
            "6 X 1 = 6\n",
            "6 X 2 = 12\n",
            "6 X 3 = 18\n",
            "6 X 4 = 24\n",
            "6 X 5 = 30\n",
            "6 X 6 = 36\n",
            "6 X 7 = 42\n",
            "6 X 8 = 48\n",
            "6 X 9 = 54\n"
          ]
        }
      ],
      "source": [
        "#Missoin_1.  구구단프로그램을 작성해주세요. 단을 입력하면 입력받은 단까지 모두 출력해주세요.\n",
        "a= int(input(\"몇단의 구구단을 보시겠습니까? \"))\n",
        "for i in range(2,10):   # 단의 범위지정\n",
        "    for j in range(1,10):  #곱할값 범위 지정\n",
        "        if a == i:  # 입력ㄷ은 숫자가 단의 수랑 같을때만 출력\n",
        "            print(f'{a} X {j} = { a*j}')"
      ]
    },
    {
      "cell_type": "code",
      "execution_count": 5,
      "metadata": {
        "id": "CXEM8Q6lB933"
      },
      "outputs": [
        {
          "name": "stdout",
          "output_type": "stream",
          "text": [
            "짝수의 합입니다 :  586\n",
            "홀수의 합입니다 :  272\n",
            "짝수의 합이 더 큰가요? True\n"
          ]
        }
      ],
      "source": [
        "#Missoin_2.  20개의 정수를 입력 받아서 짝수와 홀수를 구분하여 저장해주세요. \n",
        "#           저장된 수의 총합이 얼마인지와 짝수의 합이 큰지 홀수의 합이 큰지를 알려주는 코드를 작성해주세요 \n",
        "zero=[]\n",
        "one=[]\n",
        "for i in range(20) :  # 입력받을 정수 \n",
        "    j=int(input(\"숫자를 입력하세요.\"))\n",
        "    if j % 2 == 0:  # j가 짝수일 경우\n",
        "        zero.append(j)  #데이터 추가한다\n",
        "    else:\n",
        "        one.append(j)  # j가 홀수일때 데이터 추가한다\n",
        "a=sum(zero)  \n",
        "b=sum(one)  \n",
        "\n",
        "print(\"짝수의 합입니다 : \",a)\n",
        "print(\"홀수의 합입니다 : \",b)\n",
        "print(\"짝수의 합이 더 큰가요?\",a>b)"
      ]
    },
    {
      "cell_type": "code",
      "execution_count": null,
      "metadata": {
        "id": "V40v5PnzCFS1"
      },
      "outputs": [],
      "source": [
        "#Mission_3. 오늘의 기분을 입력받아서 입력한 기분 값이 10를 넘으면 그 기분에 맞는 내용을 알려주는 코드를 작성해주세요.\n",
        "def get_mood_content():\n",
        "    mood = input(\"오늘의 기분을 입력하세요: \")  # 사용자로부터 기분 값을 입력받음\n",
        "    mood = int(mood)  # 입력받은 값을 정수형으로 변환\n",
        "\n",
        "    mood_messages = {\n",
        "        range(21, 100): \"오늘은 정말 멋진 하루가 될 거예요!\",  # 기분 값이 21 이상인 경우\n",
        "        range(11, 21): \"오늘은 기분이 아주 좋아 보이네요!\",  # 기분 값이 11 이상 20 이하인 경우\n",
        "        range(6, 11): \"오늘은 그럭저럭 괜찮은 하루가 될 것 같아요.\",  # 기분 값이 6 이상 10 이하인 경우\n",
        "        range(0, 6): \"오늘은 좀 힘들 것 같네요. 힘내세요!\"  # 기분 값이 0 이상 5 이하인 경우\n",
        "    }\n",
        "\n",
        "    for mood_range, message in mood_messages.items():\n",
        "        if mood in mood_range:  # 입력한 기분 값이 해당 범위에 속하는지 확인\n",
        "            print(message)  # 해당하는 메시지 출력\n",
        "            break\n",
        "    else:\n",
        "        print(\"기분을 올바르게 입력해주세요.\")  # 기분 값이 어떤 범위에도 속하지 않는 경우\n",
        "\n",
        "get_mood_content()  # get_mood_content() 함수 실행"
      ]
    },
    {
      "cell_type": "code",
      "execution_count": 1,
      "metadata": {
        "id": "9jH4mjmmCGk9"
      },
      "outputs": [
        {
          "name": "stdout",
          "output_type": "stream",
          "text": [
            "입력한 성적 중 3번째 점수가 가장 높은 88입니다.\n",
            "입력한 성적 중 1번째 점수가 가장 낮은 44입니다.\n"
          ]
        }
      ],
      "source": [
        "#Mission_4. 아래의 코드를 보고 입력받은 5개의 성적을 기준을 작성하여 코드를 완성해주세요..\n",
        "#           단, 아래의 코드는 변경이 불가능합니다.\n",
        "\n",
        "#mx_index = scores.index(mx_score) + 1\n",
        "#min_index = scores.index(min_score) + 1\n",
        "#print( \"입력한 성적중 \"+ str(mx_index) + \"번째 점수가 가장 높은 \"+ str(mx_score) + \"입니다.\")\n",
        "#print( \"입력한 성적중 \"+ str(min_index) + \"번째 점수가 가장 낮은 \"+ str(min_score) + \"입니다.\")\n",
        "# 입력한 성적중 #번째 점수가 가장 높은 #점입니다.\n",
        "\n",
        "\n",
        "\n",
        "scores = []  # 성적을 저장할 빈 리스트\n",
        "\n",
        "# 5개의 성적 입력 받기\n",
        "for i in range(5):\n",
        "    score = int(input(\"성적을 입력하세요: \"))\n",
        "    scores.append(score)  # 입력한 성적을 리스트에 추가\n",
        "\n",
        "# 가장 높은 점수와 가장 낮은 점수 구하기\n",
        "mx_score = max(scores)  # 최댓값\n",
        "min_score = min(scores)  # 최솟값\n",
        "\n",
        "# 가장 높은 점수와 가장 낮은 점수의 인덱스 구하기\n",
        "mx_index = scores.index(mx_score) + 1  # 최댓값의 인덱스\n",
        "min_index = scores.index(min_score) + 1  # 최솟값의 인덱스\n",
        "\n",
        "# 결과 출력\n",
        "print(\"입력한 성적 중 \" + str(mx_index) + \"번째 점수가 가장 높은 \" + str(mx_score) + \"입니다.\")\n",
        "print(\"입력한 성적 중 \" + str(min_index) + \"번째 점수가 가장 낮은 \" + str(min_score) + \"입니다.\")\n"
      ]
    },
    {
      "cell_type": "code",
      "execution_count": 6,
      "metadata": {
        "id": "ZnLJeuArCKV3"
      },
      "outputs": [
        {
          "name": "stdout",
          "output_type": "stream",
          "text": [
            "{'Fuck': 1, 'you': 6, 'and': 5, 'your': 6, 'mom': 1, 'sister': 1, 'job': 1, 'broke': 1, 'ass': 1, 'car': 1, 'that': 2, 'shit': 2, 'call': 1, 'art': 1, 'fuck': 1, 'And': 1, 'friends': 2, \"i'll\": 1, 'never': 2, 'see': 1, 'again': 1, 'everybody': 1, 'but': 1, 'dog': 1, 'can': 1, 'all': 2, 'FUCK': 1, 'OFF': 1, 'i': 2, 'swear': 1, 'meant': 1, 'to': 2, 'mean': 1, 'the': 2, 'best': 1, 'when': 2, 'it': 1, 'ended': 1, 'even': 2, 'try': 1, 'bite': 1, 'my': 2, 'tongue': 1, 'start': 1, 'now': 1, \"you're\": 1, 'texting': 1, 'asking': 1, 'questions': 1, 'hey': 1, 'liked': 1, 'in': 1, 'first': 1, 'place': 1}\n"
          ]
        }
      ],
      "source": [
        "#Mission_5. 아래의 Song의 내용을 분석할 수 있는 코드를 작성하여 정략적 수치를 통해 의견을 작성해주세요..\n",
        "\n",
        "# [의견 작성]\n",
        "#\n",
        "\n",
        "\n",
        "song = \"\"\"Fuck you and your mom and your sister and your job and your broke ass car and that shit you call art\n",
        "       fuck you And your friends that i'll never see again everybody but your dog you can all FUCK OFF i swear i meant to mean the best when it ended even try to bite my tongue when you start shit\n",
        "       now you're texting all my friends asking questions hey never even liked you in the first place\"\"\"\n",
        "\n",
        "\n",
        "song_line= song.split()\n",
        "count={}\n",
        "for i in song_line:\n",
        "    try: count[i] += 1\n",
        "    except: count[i] = 1\n",
        "print(count)\n"
      ]
    },
    {
      "cell_type": "code",
      "execution_count": null,
      "metadata": {
        "id": "SXEYRt6yCNjN"
      },
      "outputs": [],
      "source": [
        "#Mission_6. 이름과 점수를 입력하면 학점을 반환하여 저장하는 코드를 작성해주세요.\n",
        "\n",
        "def calculate_grade(score):\n",
        "    if score >= 90:\n",
        "        return \"A\"\n",
        "    elif score >= 80:\n",
        "        return \"B\"\n",
        "    elif score >= 70:\n",
        "        return \"C\"\n",
        "    elif score >= 60:\n",
        "        return \"D\"\n",
        "    else:\n",
        "        return \"F\"\n",
        "\n",
        "def save_grade(name, grade):\n",
        "    # 학점을 저장하는 사전(dictionary) 선언\n",
        "    grades = {}\n",
        "\n",
        "    # 이미 저장된 학점이 있는지 확인하고 저장하는 함수\n",
        "    if name in grades:\n",
        "        print(f\"{name} 학생의 기존 학점은 {grades[name]}입니다.\")\n",
        "    grades[name] = grade\n",
        "    print(f\"{name} 학생의 새로운 학점({grade})이 저장되었습니다.\")\n",
        "\n",
        "# 사용자로부터 이름과 점수를 입력받음\n",
        "name = input(\"이름을 입력하세요: \")\n",
        "score = int(input(\"점수를 입력하세요: \"))\n",
        "\n",
        "# 학점 계산 및 저장 함수 호출\n",
        "grade = calculate_grade(score)\n",
        "save_grade(name, grade)\n"
      ]
    },
    {
      "cell_type": "code",
      "execution_count": null,
      "metadata": {
        "id": "vsnGlBU2CQKL"
      },
      "outputs": [],
      "source": [
        "#Mission_7. 피보나치수열은 첫째 및 둘째 항이 1이며 그 뒤의 모든 항은 바로 앞 두 항의 합인 수열이다.\n",
        "#           수열을 코드로 작성해주세요.\n",
        "\n",
        "def fibonacci(n):\n",
        "    fib_list = [1, 1]  # 첫째 및 둘째 항 초기화\n",
        "\n",
        "    for i in range(2, n):\n",
        "        fib_list.append(fib_list[i-1] + fib_list[i-2])  # 현재 항은 이전 두 항의 합\n",
        "    return fib_list[:n]  # n개의 항으로 제한하여 반환\n",
        "\n",
        "# 사용자로부터 피보나치 수열의 항 수를 입력받음\n",
        "n = int(input(\"피보나치 수열의 항 수를 입력하세요: \"))\n",
        "\n",
        "# 피보나치 수열 계산 및 출력\n",
        "result = fibonacci(n)\n",
        "print(result)\n"
      ]
    },
    {
      "cell_type": "code",
      "execution_count": null,
      "metadata": {
        "id": "wQMqbee0CTRV"
      },
      "outputs": [],
      "source": [
        "#Missoin_8. 아래의 내용을 보고 결과를 출력하는 코드를 작성해주세요.\n",
        "'''10보다 작은 자연수 중에서 3 또는 5의 배수는 3, 5, 6, 9 이고, 이것을 모두 더하면 23입니다.\n",
        "   1000보다 작은 자연수 중에서 3 또는 5의 배수를 모두 더하면 얼마일까요?'''\n",
        "\n",
        "# 10보다 작은 자연수 중 3 또는 5의 배수를 모두 더하는 코드\n",
        "total1 = 0\n",
        "\n",
        "for num in range(1, 10):\n",
        "    if num % 3 == 0 or num % 5 == 0:\n",
        "        total1 += num\n",
        "\n",
        "print(f\"10보다 작은 자연수 중 3 또는 5의 배수의 합은 {total1}입니다.\")\n",
        "\n",
        "# 1000보다 작은 자연수 중 3 또는 5의 배수를 모두 더하는 코드\n",
        "total2 = 0\n",
        "\n",
        "for num in range(1, 1000):\n",
        "    if num % 3 == 0 or num % 5 == 0:\n",
        "        total2 += num\n",
        "\n",
        "print(f\"1000보다 작은 자연수 중 3 또는 5의 배수의 합은 {total2}입니다.\")\n"
      ]
    },
    {
      "cell_type": "code",
      "execution_count": null,
      "metadata": {
        "id": "-zRg-hnmCVBD"
      },
      "outputs": [],
      "source": [
        "#Mission_9. 가위,바위,보 게임을 만들어주세요.. (이긴 횟수를 알려주세요.)\n",
        "import random\n",
        "\n",
        "def play_game():\n",
        "    choices = ['가위', '바위', '보']  # 선택지 리스트 생성\n",
        "    wins = 0  # 이긴 횟수를 저장할 변수 초기화\n",
        "\n",
        "    while True:  # 게임 루프 시작\n",
        "        user_choice = input(\"가위, 바위, 보 중 하나를 선택하세요 (끝내려면 '끝' 입력): \")\n",
        "        user_choice = user_choice.strip().lower()  # 사용자 입력 문자열 정리 및 소문자로 변환\n",
        "\n",
        "        if user_choice == '끝':  # '끝'을 입력하면 게임 종료\n",
        "            break\n",
        "\n",
        "        if user_choice not in choices:  # 유효한 선택지가 아닌 경우, 다시 선택하도록 안내\n",
        "            print(\"유효한 선택지가 아닙니다. 다시 선택하세요.\")\n",
        "            continue\n",
        "\n",
        "        computer_choice = random.choice(choices)  # 컴퓨터의 선택을 랜덤하게 생성\n",
        "\n",
        "        print(f\"\\n사용자: {user_choice}\")\n",
        "        print(f\"컴퓨터: {computer_choice}\")\n",
        "\n",
        "        if user_choice == computer_choice:  # 사용자와 컴퓨터가 같은 선택을 한 경우, 비겼음을 출력\n",
        "            print(\"비겼습니다!\")\n",
        "        elif (user_choice == '가위' and computer_choice == '보') or \\\n",
        "             (user_choice == '바위' and computer_choice == '가위') or \\\n",
        "             (user_choice == '보' and computer_choice == '바위'):  # 사용자가 이긴 경우\n",
        "            print(\"사용자가 이겼습니다!\")\n",
        "            wins += 1  # 이긴 횟수 증가\n",
        "        else:  # 컴퓨터가 이긴 경우\n",
        "            print(\"컴퓨터가 이겼습니다!\")\n",
        "\n",
        "    print(f\"\\n이긴 횟수: {wins}회\")  # 게임 종료 후 이긴 횟수 출력\n",
        "\n",
        "# 가위바위보 게임 실행\n",
        "play_game()\n"
      ]
    },
    {
      "cell_type": "code",
      "execution_count": 7,
      "metadata": {
        "id": "suxKQum6CXXz"
      },
      "outputs": [
        {
          "name": "stdout",
          "output_type": "stream",
          "text": [
            "커피를 뽑을 수 있는 횟수입니다.  8\n",
            "잔돈입니다.  100\n"
          ]
        }
      ],
      "source": [
        "#Mission_10. 커피 자판기의 계산프로그램을 만들려고 합니다.(최대 15잔을 뽑을 수 있어요. 잔당 200원)\n",
        "#            돈을 값을 입력 받으면 커피를 뽑을 수 있는 잔수와 잔액을 알려주시면 됩니다. \n",
        "coffee=200\n",
        "my_money=int(input(\"가진돈을 입력하세요 : \"))\n",
        "i=my_money/coffee\n",
        "j=my_money%coffee\n",
        "if i < 16 :  # 뽑기 횟수 16미만제한\n",
        "    print(\"커피를 뽑을 수 있는 횟수입니다. \",int(i))\n",
        "    print(\"잔돈입니다. \",int(j))\n",
        "else:\n",
        "    print(\"그만 뽑으세요\")"
      ]
    }
  ],
  "metadata": {
    "colab": {
      "provenance": []
    },
    "kernelspec": {
      "display_name": "Python 3",
      "name": "python3"
    },
    "language_info": {
      "codemirror_mode": {
        "name": "ipython",
        "version": 3
      },
      "file_extension": ".py",
      "mimetype": "text/x-python",
      "name": "python",
      "nbconvert_exporter": "python",
      "pygments_lexer": "ipython3",
      "version": "3.11.3"
    }
  },
  "nbformat": 4,
  "nbformat_minor": 0
}
